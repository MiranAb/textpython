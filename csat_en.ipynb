{
  "nbformat": 4,
  "nbformat_minor": 0,
  "metadata": {
    "kernelspec": {
      "display_name": "Python 3",
      "language": "python",
      "name": "python3"
    },
    "language_info": {
      "codemirror_mode": {
        "name": "ipython",
        "version": 3
      },
      "file_extension": ".py",
      "mimetype": "text/x-python",
      "name": "python",
      "nbconvert_exporter": "python",
      "pygments_lexer": "ipython3",
      "version": "3.8.3"
    },
    "colab": {
      "name": "csat en.ipynb",
      "provenance": [],
      "include_colab_link": true
    }
  },
  "cells": [
    {
      "cell_type": "markdown",
      "metadata": {
        "id": "view-in-github",
        "colab_type": "text"
      },
      "source": [
        "<a href=\"https://colab.research.google.com/github/MiranAb/textpython/blob/main/csat_en.ipynb\" target=\"_parent\"><img src=\"https://colab.research.google.com/assets/colab-badge.svg\" alt=\"Open In Colab\"/></a>"
      ]
    },
    {
      "cell_type": "code",
      "metadata": {
        "id": "RueIfpExlprO"
      },
      "source": [
        "import nltk"
      ],
      "execution_count": null,
      "outputs": []
    },
    {
      "cell_type": "code",
      "metadata": {
        "id": "IqHdRDnflprV"
      },
      "source": [
        "import string\n",
        "import re\n",
        "document_text = open('csat.csv','r', encoding='utf-8', newline='') #Читаем файл"
      ],
      "execution_count": null,
      "outputs": []
    },
    {
      "cell_type": "code",
      "metadata": {
        "id": "xJ6PTD9blprX"
      },
      "source": [
        "#Приводим строку в нижнему регистру\n",
        "text_string = document_text.read().lower()"
      ],
      "execution_count": null,
      "outputs": []
    },
    {
      "cell_type": "code",
      "metadata": {
        "scrolled": true,
        "id": "PvQuwG-slprX",
        "outputId": "a13c5c1a-34a2-476a-9ee6-21630e51ea4e"
      },
      "source": [
        "#Импортируем библиотеку NTLK, tokenize\n",
        "from nltk.tokenize import word_tokenize, ToktokTokenizer\n",
        "nltk.download('stopwords')\n",
        "nltk.download('punkt')\n",
        "nltk.download('snowball_data')\n",
        "nltk.download('perluniprops')\n",
        "nltk.download('universal_tagset')\n",
        "nltk.download('stopwords')\n",
        "nltk.download('nonbreaking_prefixes')\n",
        "nltk.download('wordnet')"
      ],
      "execution_count": null,
      "outputs": [
        {
          "output_type": "stream",
          "text": [
            "[nltk_data] Downloading package stopwords to\n",
            "[nltk_data]     C:\\Users\\wecse\\AppData\\Roaming\\nltk_data...\n",
            "[nltk_data]   Package stopwords is already up-to-date!\n",
            "[nltk_data] Downloading package punkt to\n",
            "[nltk_data]     C:\\Users\\wecse\\AppData\\Roaming\\nltk_data...\n",
            "[nltk_data]   Package punkt is already up-to-date!\n",
            "[nltk_data] Downloading package snowball_data to\n",
            "[nltk_data]     C:\\Users\\wecse\\AppData\\Roaming\\nltk_data...\n",
            "[nltk_data]   Package snowball_data is already up-to-date!\n",
            "[nltk_data] Downloading package perluniprops to\n",
            "[nltk_data]     C:\\Users\\wecse\\AppData\\Roaming\\nltk_data...\n",
            "[nltk_data]   Package perluniprops is already up-to-date!\n",
            "[nltk_data] Downloading package universal_tagset to\n",
            "[nltk_data]     C:\\Users\\wecse\\AppData\\Roaming\\nltk_data...\n",
            "[nltk_data]   Package universal_tagset is already up-to-date!\n",
            "[nltk_data] Downloading package stopwords to\n",
            "[nltk_data]     C:\\Users\\wecse\\AppData\\Roaming\\nltk_data...\n",
            "[nltk_data]   Package stopwords is already up-to-date!\n",
            "[nltk_data] Downloading package nonbreaking_prefixes to\n",
            "[nltk_data]     C:\\Users\\wecse\\AppData\\Roaming\\nltk_data...\n",
            "[nltk_data]   Package nonbreaking_prefixes is already up-to-date!\n",
            "[nltk_data] Downloading package wordnet to\n",
            "[nltk_data]     C:\\Users\\wecse\\AppData\\Roaming\\nltk_data...\n",
            "[nltk_data]   Package wordnet is already up-to-date!\n"
          ],
          "name": "stderr"
        },
        {
          "output_type": "execute_result",
          "data": {
            "text/plain": [
              "True"
            ]
          },
          "metadata": {
            "tags": []
          },
          "execution_count": 4
        }
      ]
    },
    {
      "cell_type": "code",
      "metadata": {
        "id": "FN8p9jrclprZ",
        "outputId": "39f635af-0739-42f3-da73-6a53800dd449"
      },
      "source": [
        "#Токенизируем\n",
        "tokens = word_tokenize(text_string)\n",
        "word_qty = len(tokens)\n",
        "print(len(tokens))\n",
        "print('количество токенов/слов')\n",
        "#print(tokens)"
      ],
      "execution_count": null,
      "outputs": [
        {
          "output_type": "stream",
          "text": [
            "4833\n",
            "количество токенов/слов\n"
          ],
          "name": "stdout"
        }
      ]
    },
    {
      "cell_type": "code",
      "metadata": {
        "id": "H_5i29GXlpra"
      },
      "source": [
        "#Очищаем от пунктуации\n",
        "punct = '!\"#$%&()*\\+,-\\./:;<=>?@\\[\\]^_`{|}~„“-«»†*\\—/\\-‘’|\\?+|[0-9]+|[0-9]+.*|\\\"|\\)|\\.|\\?|-|!+|\\(|\\+|,'\n",
        "clean_text = re.sub(punct, r'', text_string)\n",
        "#print(len(clean_text))\n",
        "#print(clean_text.split())"
      ],
      "execution_count": null,
      "outputs": []
    },
    {
      "cell_type": "markdown",
      "metadata": {
        "id": "1pr0Jo8mlpra"
      },
      "source": [
        "На этом шаге избавимся от стоп слов из англ. подборки.\n",
        "Применим метод стемминга, а именно SnowballStemmer для нашего списка слов"
      ]
    },
    {
      "cell_type": "code",
      "metadata": {
        "id": "5bIgXEtulprb"
      },
      "source": [
        "from nltk.corpus import stopwords\n",
        "sw = stopwords.words('english')\n",
        "# дописать эту строку под ⬇\n",
        "#words_stem = [w.strip(punct).lower() for w in word_tokenize(clean_text)]  - сделано\n",
        "#print(words_stem)\n",
        "#print(sw)\n",
        "#print([w if w not in sw else print(w) for w in clean_text])"
      ],
      "execution_count": null,
      "outputs": []
    },
    {
      "cell_type": "code",
      "metadata": {
        "id": "ktQHmIxslprd",
        "outputId": "c5d92801-1a35-45e3-b810-30b88dbf930c"
      },
      "source": [
        "from nltk.stem.snowball import SnowballStemmer\n",
        "words_stem = [w.strip(punct).lower() for w in word_tokenize(clean_text)] \n",
        "words_stem = [w for w in words_stem if w not in sw and w != '']\n",
        "print(len(words_stem)) #до очистки было 4172 # после очистки от стоп слов осталось 2103\n",
        "#print(words_stem)"
      ],
      "execution_count": null,
      "outputs": [
        {
          "output_type": "stream",
          "text": [
            "2103\n"
          ],
          "name": "stdout"
        }
      ]
    },
    {
      "cell_type": "markdown",
      "metadata": {
        "id": "_d1ud1k-lpre"
      },
      "source": [
        "До очистки было 4172 слов после очистки от стоп слов осталось 2103"
      ]
    },
    {
      "cell_type": "code",
      "metadata": {
        "id": "oWIqi0wdlpre"
      },
      "source": [
        "#Создадим список str_1 куда помести стеммы\n",
        "snowball = SnowballStemmer(\"english\")\n",
        "str_1 = [ ]\n",
        "for w in words_stem:\n",
        "    #print(\"%s: %s\" % (w, snowball.stem(w)))\n",
        "    str_1.append(snowball.stem(w))\n",
        "#print(str_1)\n",
        "#Преобразуем список в строку для функции re.findal\n",
        "myString = ' '.join(str_1)\n",
        "#print(len(str_1))\n",
        "#print(str_1)"
      ],
      "execution_count": null,
      "outputs": []
    },
    {
      "cell_type": "code",
      "metadata": {
        "id": "5KBzcPHVlprf"
      },
      "source": [
        "#**Создаем пустой dictionary (словарь) frequency = {}\n",
        "frequency = {}\n",
        "match_pattern = re.findall(r'(?u)\\b[a-z]{3,20}\\w+', myString) #заменяем на англ\n",
        "\n",
        "for word in match_pattern:\n",
        "    count = frequency.get(word, 0)\n",
        "    frequency[word] = count + 1\n",
        "\n",
        "frequency_list = frequency.keys()\n",
        "\n",
        "#for words in frequency_list:\n",
        "        #print(words,\";\",frequency[words]) #это если надо будет вывести результат"
      ],
      "execution_count": null,
      "outputs": []
    },
    {
      "cell_type": "code",
      "metadata": {
        "id": "8BTgJOULlprf"
      },
      "source": [
        "#Cортируем по убыванию\n",
        "frequency = {k: frequency[k] for k in sorted(frequency, key=frequency.get, reverse=True)}\n",
        "\n",
        "for key, value in frequency.items():\n",
        "    print(key, ';', value, sep='')"
      ],
      "execution_count": null,
      "outputs": []
    },
    {
      "cell_type": "markdown",
      "metadata": {
        "id": "UdCX5nkqlprg"
      },
      "source": [
        "Теперь у нас есть словарь frequency показывающий частоту употребления слов по убыванию.\n",
        "Импортируем Pandas и присвоим индекс 0 столбцу с частотой."
      ]
    },
    {
      "cell_type": "code",
      "metadata": {
        "id": "p1aT4fpOlprg",
        "outputId": "df510204-2dde-4158-ba60-a7d11bffec0d"
      },
      "source": [
        "import pandas as pd\n",
        "dv = pd.DataFrame.from_dict(frequency, orient='index')\n",
        "#print(dv)\n",
        "print(len(dv)) # - общее количество уникальных слов"
      ],
      "execution_count": null,
      "outputs": [
        {
          "output_type": "stream",
          "text": [
            "594\n"
          ],
          "name": "stdout"
        }
      ]
    },
    {
      "cell_type": "markdown",
      "metadata": {
        "id": "y1RUfUEFlprh"
      },
      "source": [
        "Присвоим новой переменной short_list значения первых 40 наиболее частотный результатов"
      ]
    },
    {
      "cell_type": "code",
      "metadata": {
        "scrolled": true,
        "colab": {
          "base_uri": "https://localhost:8080/",
          "height": 214
        },
        "id": "bK4DZesklprh",
        "outputId": "2468d628-d0e0-47b8-ad5b-f4d75edcbfdf"
      },
      "source": [
        "short_list = dv.head(20) # любое число может быть\n",
        "short_listx  = short_list [1, 2, 3, 4, 5 ]\n",
        "print(short_listx)"
      ],
      "execution_count": 3,
      "outputs": [
        {
          "output_type": "error",
          "ename": "NameError",
          "evalue": "ignored",
          "traceback": [
            "\u001b[0;31m---------------------------------------------------------------------------\u001b[0m",
            "\u001b[0;31mNameError\u001b[0m                                 Traceback (most recent call last)",
            "\u001b[0;32m<ipython-input-3-82e6c652a65c>\u001b[0m in \u001b[0;36m<module>\u001b[0;34m()\u001b[0m\n\u001b[0;32m----> 1\u001b[0;31m \u001b[0mshort_list\u001b[0m \u001b[0;34m=\u001b[0m \u001b[0mdv\u001b[0m\u001b[0;34m.\u001b[0m\u001b[0mhead\u001b[0m\u001b[0;34m(\u001b[0m\u001b[0;36m20\u001b[0m\u001b[0;34m)\u001b[0m \u001b[0;31m# любое число может быть\u001b[0m\u001b[0;34m\u001b[0m\u001b[0;34m\u001b[0m\u001b[0m\n\u001b[0m\u001b[1;32m      2\u001b[0m \u001b[0mshort_listx\u001b[0m  \u001b[0;34m=\u001b[0m \u001b[0mshort_list\u001b[0m \u001b[0;34m[\u001b[0m\u001b[0;36m1\u001b[0m\u001b[0;34m,\u001b[0m \u001b[0;36m2\u001b[0m\u001b[0;34m,\u001b[0m \u001b[0;36m3\u001b[0m\u001b[0;34m,\u001b[0m \u001b[0;36m4\u001b[0m\u001b[0;34m,\u001b[0m \u001b[0;36m5\u001b[0m \u001b[0;34m]\u001b[0m\u001b[0;34m\u001b[0m\u001b[0;34m\u001b[0m\u001b[0m\n\u001b[1;32m      3\u001b[0m \u001b[0mprint\u001b[0m\u001b[0;34m(\u001b[0m\u001b[0mshort_listx\u001b[0m\u001b[0;34m)\u001b[0m\u001b[0;34m\u001b[0m\u001b[0;34m\u001b[0m\u001b[0m\n",
            "\u001b[0;31mNameError\u001b[0m: name 'dv' is not defined"
          ]
        }
      ]
    },
    {
      "cell_type": "code",
      "metadata": {
        "id": "KWF2d0-2lpri"
      },
      "source": [
        "import numpy as np\n",
        "import matplotlib.pyplot as plt"
      ],
      "execution_count": null,
      "outputs": []
    },
    {
      "cell_type": "markdown",
      "metadata": {
        "id": "zHjJA1Dslpri"
      },
      "source": [
        "На графике визуально отобразили частоту употребления наиболее частотных 20 слов"
      ]
    },
    {
      "cell_type": "code",
      "metadata": {
        "scrolled": true,
        "id": "NfieDiaZlprj",
        "outputId": "171fe882-8ac2-4dd8-b5e1-6ffc9b52dac7"
      },
      "source": [
        "plt.figure(figsize=(25,10))\n",
        "plt.plot(short_list)\n",
        "plt.show()"
      ],
      "execution_count": null,
      "outputs": [
        {
          "output_type": "display_data",
          "data": {
            "image/png": "iVBORw0KGgoAAAANSUhEUgAABZUAAAI/CAYAAAAP7TesAAAABHNCSVQICAgIfAhkiAAAAAlwSFlzAAALEgAACxIB0t1+/AAAADh0RVh0U29mdHdhcmUAbWF0cGxvdGxpYiB2ZXJzaW9uMy4yLjIsIGh0dHA6Ly9tYXRwbG90bGliLm9yZy+WH4yJAAAgAElEQVR4nOzdd3idB333/8+t4SVvn+NMJ44diRBChmPIlFJWKaNAadm0dPJAIUDpbmmfzqf06YRCQym/0vQhZZZNgTLaSE5CwM6GBMlJnOEMW94jHpLu3x9xA2kCkW1J99E5r9d15TqRjow+ua7wzzvn+t5FWZYBAAAAAIDxaKt6AAAAAAAA04eoDAAAAADAuInKAAAAAACMm6gMAAAAAMC4icoAAAAAAIybqAwAAAAAwLh1TOUvq9Vq5fLly6fyVwIAAAAAcJjWrVs3XJZl/fHem9KovHz58qxdu3YqfyUAAAAAAIepKIq7ftB7zl8AAAAAADBuojIAAAAAAOMmKgMAAAAAMG6iMgAAAAAA4yYqAwAAAAAwbqIyAAAAAADjJioDAAAAADBuojIAAAAAAOMmKgMAAAAAMG6iMgAAAAAA4yYqAwAAAAAwbqIyAAAAAADjJioDAAAAADBuojIAAAAAAOMmKgMAAAAAMG6iMgAAAAAA4yYqAwAAAAAwbqIyAAAAAADjJioDAAAAADBuojIAAAAAAOMmKgMAAAAAMG6i8hQpy7LqCQAAAAAAR01UngKfu/G+XPzn/5k9+0eqngIAAAAAcFRE5SmwpGtGNm5/KN+4Y0vVUwAAAAAAjoqoPAXOXb4oszvb0z+4ueopAAAAAABHRVSeAjM72nP+isUZGBquegoAAAAAwFERladIb3c9dwzvyT1b91Y9BQAAAADgiInKU6Svp54k6R9yAgMAAAAAmL5E5Smyst6V4xfMysCgExgAAAAAwPQlKk+RoijS11PPVbcPZ2R0rOo5AAAAAABHRFSeQn099ezaN5Ib791e9RQAAAAAgCMiKk+hi1bW0lYkVzqBAQAAAABMU6LyFFowpzNnLVuYAQ/rAwAAAACmKVF5ivV213PjPduzY+/BqqcAAAAAABw2UXmKXdJTy1iZXHW7ExgAAAAAwPQjKk+xs05cmHmzOtI/6AQGAAAAADD9iMpTrKO9LRetrGVgaDhlWVY9BwAAAADgsIjKFejtqWXj9ody++Y9VU8BAAAAADgsonIF+rrrSZKBIScwAAAAAIDpRVSuwLLFc3JKrctdZQAAAABg2hGVK9LXXcs37tia/SOjVU8BAAAAABg3Ubkivd31PHRwNOs2bKt6CgAAAADAuInKFblg5ZJ0the50l1lAAAAAGAaEZUr0jWzI6tOWpSBweGqpwAAAAAAjJuoXKG+nnq+c//ObN61v+opAAAAAADjIipX6JKeepJkzXonMAAAAACA6UFUrtDpx83Pkq4Z6XcCAwAAAACYJkTlCrW1Fbm4u5aBoeGMjZVVzwEAAAAAeEKicsV6u+sZ3r0/tz6ws+opAAAAAABPSFSuWF93LUkyMOQEBgAAAADQ+ETlii2dPyunHTsv/YMe1gcAAAAAND5RuQH09dSzdsO27D0wUvUUAAAAAIAfSlRuAL3dtRwYHcu1d2ytegoAAAAAwA8lKjeApy1fnJkdbbnSCQwAAAAAoMGJyg1gVmd7zluxJANDojIAAAAA0NhE5QbR113L7Zv3ZOP2h6qeAgAAAADwA4nKDaKvp54kGXACAwAAAABoYKJyg+heOjfHzp+VficwAAAAAIAGJio3iKIo0tdTy5qh4YyOlVXPAQAAAAB4XKJyA+ntrmfnvpHceO/2qqcAAAAAADwuUbmBXHxqLUWRDAwOVz0FAAAAAOBxicoNZFHXjJx5wgJ3lQEAAACAhiUqN5i+nnpuuGd7djx0sOopAAAAAACPISo3mN7uekbHylxzuxMYAAAAAEDjEZUbzDknLczcmR3pHxKVAQAAAIDGIyo3mM72tlywckn6BzenLMuq5wAAAAAAPIqo3ID6euq5d9tDuXN4T9VTAAAAAAAeRVRuQH3dtSTJgBMYAAAAAECDEZUb0MlLunLykjnpH9xc9RQAAAAAgEcRlRtUb3ct19yxJQdGxqqeAgAAAADwCFG5QfV117P3wGjW3bWt6ikAAAAAAI8QlRvUBSuXpKOtyMCQExgAAAAAQOMQlRvUvFmdWXXSovSLygAAAABAAxGVG1hfTy23bNyZLbv3Vz0FAAAAACCJqNzQervrSZI164crXgIAAAAA8DBRuYGdccKCLJrTmf5BURkAAAAAaAyicgNrbyty0am1DAxtTlmWVc8BAAAAABCVG11fTz2bdu3Pdx/cVfUUAAAAAABRudH1dteSJP2DmyteAgAAAAAgKje84xbMTs8xczMw5K4yAAAAAFA9UXka6O2u59o7t+ahA6NVTwEAAAAAWpyoPA309dRzYGQs1965peopAAAAAECLE5WngacvX5wZHW1OYAAAAAAAlROVp4HZM9pz3imLPawPAAAAAKicqDxN9HbXMrRpd+7f8VDVUwAAAACAFiYqTxN9PfUkycCgExgAAAAAQHVE5WniScfMy9J5M9M/5AQGAAAAAFCdcUXloigWFkXxiaIobiuK4taiKC4oimJxURRfKYpi6NDroske28qKokhvdz1r1g9ndKyseg4AAAAA0KLG+0nldyX5UlmWpyU5K8mtSX4rydfKsuxO8rVDXzOJ+npq2b73YG7ZuKPqKQAAAABAi3rCqFwUxfwkfUn+vyQpy/JAWZbbk7w4yeWHfuzyJC+ZrJE87OJTaymKpH/QCQwAAAAAoBrj+aTyiiSbk3ywKIrri6L4QFEUXUmOKcvy/iQ59Lp0EneSZMncmTnj+AUZGPKwPgAAAACgGuOJyh1JViW5rCzLc5LsyWGcuiiK4vVFUawtimLt5s0+YXu0ertrue7ubdm172DVUwAAAACAFjSeqHxvknvLsrz20NefyMOR+cGiKI5LkkOvmx7vD5dl+f6yLFeXZbm6Xq9PxOaW1tdTz8hYmWtu31L1FAAAAACgBT1hVC7L8oEk9xRF8aRD33pWku8k+WyS1x363uuSfGZSFvIoq05alK4Z7ekf8qlvAAAAAGDqdYzz5y5NckVRFDOS3JHk5/JwkP5YURS/kOTuJC+bnIl8vxkdbblg5ZL0D7qrDAAAAABMvXFF5bIsb0iy+nHeetbEzmE8ervr+eqtm3LXlj05eUlX1XMAAAAAgBYynpvKNJi+nodvU/cPOoEBAAAAAEwtUXkaWr5kTk5cNDv9Q05gAAAAAABTS1SehoqiSF9PPdfcviUHR8eqngMAAAAAtBBReZrq665l9/6RXH/39qqnAAAAAAAtRFSepi48tZb2tsJdZQAAAABgSonK09T8WZ05Z9nCDAyJygAAAADA1BGVp7He7npu2rgjW/ccqHoKAAAAANAiROVprK+nlrJMrlo/XPUUAAAAAKBFiMrT2JknLsyC2Z3uKgMAAAAAU0ZUnsba24pcfGotA0PDKcuy6jkAAAAAQAsQlae53u5aHti5L0Obdlc9BQAAAABoAaLyNNfbU08SJzAAAAAAgCkhKk9zJyycnZX1rvQPeVgfAAAAADD5ROUm0NdTz7V3bMm+g6NVTwEAAAAAmpyo3AT6uuvZPzKWb23YWvUUAAAAAKDJicpN4LwVizOjvc1dZQAAAABg0onKTWDOjI6sXr4oA+4qAwAAAACTTFRuEn099dz2wK48uHNf1VMAAAAAgCYmKjeJvu56kvi0MgAAAAAwqUTlJnHasfNSmzvTXWUAAAAAYFKJyk2ira1IX3cta9YPZ2ysrHoOAAAAANCkROUm0ttTy9Y9B/Lt+3ZWPQUAAAAAaFKichO5+NSH7yr3DzmBAQAAAABMDlG5idTnzczpx813VxkAAAAAmDSicpPp66ln3V3bsnv/SNVTAAAAAIAmJCo3mb7uWkbGynzj9i1VTwEAAAAAmpCo3GTOXb4oszvb3VUGAAAAACaFqNxkZna05/wVizMwNFz1FAAAAACgCYnKTaivp547h/fknq17q54CAAAAADQZUbkJ9XbXk8QJDAAAAABgwonKTWhlvSsnLJyd/kFRGQAAAACYWKJyEyqKIr3dtVy9fktGRseqngMAAAAANBFRuUn19dSza/9Ibrhne9VTAAAAAIAmIio3qYtW1tJWJP1Dw1VPAQAAAACaiKjcpBbM6cxZyxa6qwwAAAAATChRuYn1dddz073bs33vgaqnAAAAAABNQlRuYn09tYyVyVXrt1Q9BQAAAABoEqJyEzvrxIWZN6sjA0NOYAAAAAAAE0NUbmId7W25aGUt/YObU5Zl1XMAAAAAgCYgKje5vp567tuxL7dv3l31FAAAAACgCYjKTa63u5Yk6R8crngJAAAAANAMROUmt2zxnKyodaXfXWUAAAAAYAKIyi2gt7uWb9yxJftHRqueAgAAAABMc6JyC+jrqWffwbGs3bCt6ikAAAAAwDQnKreA81csSWd74QQGAAAAAHDUROUW0DWzI+eevMjD+gAAAACAoyYqt4i+nnpuvX9nNu3aV/UUAAAAAGAaE5VbRF93PUmyZsinlQEAAACAIycqt4jTj5ufJV0zMiAqAwAAAABHQVRuEW1tRS7urmVgaHPGxsqq5wAAAAAA05So3EL6uusZ3n0gtz6ws+opAAAAAMA0JSq3kN7uWpKkf9AJDAAAAADgyIjKLWTp/Fk57dh56R/cXPUUAAAAAGCaEpVbTF9PPWvv2pq9B0aqngIAAAAATEOicovp667n4GiZb9yxpeopAAAAAMA0JCq3mNXLF2VWZ5u7ygAAAADAERGVW8yszvacd8qS9A+5qwwAAAAAHD5RuQX1dtdyx+Y9uXfb3qqnAAAAAADTjKjcgi7pqSdJBoacwAAAAAAADo+o3IJOXTo3x86flQEnMAAAAACAwyQqt6CiKNLXU8uaoeGMjI5VPQcAAAAAmEZE5RbV11PPzn0juWnjjqqnAAAAAADTiKjcoi5aWUtRJP2DTmAAAAAAAOMnKreoRV0zcuaJCz2sDwAAAAA4LKJyC+vrruWGe7Znx0MHq54CAAAAAEwTonIL6+upZ3SszNXrfVoZAAAAABgfUbmFnb1sYebO7Ei/ExgAAAAAwDiJyi2ss70tF65ckv7BzSnLsuo5AAAAAMA0ICq3uN6eejZufyh3Du+pegoAAAAAMA2Iyi3uku56kqR/cHPFSwAAAACA6UBUbnEnLZmTk5fMyYC7ygAAAADAOIjKpK+7nmvu2JIDI2NVTwEAAAAAGpyoTHq7a9l7YDTr7tpW9RQAAAAAoMGJyuSClUvS0Vakf8hdZQAAAADghxOVybxZnVl18qIMiMoAAAAAwBMQlUmS9HXXcsvGnRnevb/qKQAAAABAAxOVSZL09dSTJFetH654CQAAAADQyERlkiRPOX5BFs3pzJWDTmAAAAAAAD+YqEySpL2tyMXd9QwMDacsy6rnAAAAAAANSlTmEb3dtWzetT+3PbCr6ikAAAAAQIMSlXlEX/fDd5X7ncAAAAAAAH4AUZlHHLtgVnqOmZuBIQ/rAwAAAAAen6jMo/R11/PNDVvz0IHRqqcAAAAAAA1IVOZRenvqOTAylmvv3FL1FAAAAACgAYnKPMp5pyzOjI629A86gQEAAAAAPJaozKPM6mzPeacszsCQh/UBAAAAAI8lKvMYfd31DG3anfu2P1T1FAAAAACgwYjKPEZvTy1JsmbICQwAAAAA4NHGFZWLothQFMXNRVHcUBTF2kPfW1wUxVeKohg69LpocqcyVZ50zLwcM39mrnQCAwAAAAD4Hw7nk8rPKMvy7LIsVx/6+reSfK0sy+4kXzv0NU2gKIr0dtdz1frhjI6VVc8BAAAAABrI0Zy/eHGSyw/9/eVJXnL0c2gUvd21bN97MDdv3FH1FAAAAACggYw3KpdJ/qMoinVFUbz+0PeOKcvy/iQ59Lp0MgZSjd7ueooi6R90AgMAAAAA+J7xRuWLyrJcleR5Sd5UFEXfeH9BURSvL4pibVEUazdvFiini8VdM3LG8Qsy4K4yAAAAAPB9xhWVy7K879DrpiSfSvL0JA8WRXFckhx63fQD/uz7y7JcXZbl6nq9PjGrmRJ9PbVcd/f27Nx3sOopAAAAAECDeMKoXBRFV1EU8/7775P8aJJbknw2yesO/djrknxmskZSjd7uekbHylxz+5aqpwAAAAAADWI8n1Q+JsmaoihuTPLNJF8oy/JLSd6Z5DlFUQwlec6hr2kiq05alK4Z7e4qAwAAAACP6HiiHyjL8o4kZz3O97ckedZkjKIxzOhoywUrl2RgaLjqKQAAAABAgxjvg/poUX099dy9dW82DO+pegoAAAAA0ABEZX6o3u6HH644MOQEBgAAAAAgKvMEli+Zk2WLZ+fKQScwAAAAAABRmSdQFEV6u+u55vbhHBwdq3oOAAAAAFAxUZkn1Nddz54Do7nurm1VTwEAAAAAKiYq84QuPHVJ2tuKDAw5gQEAAAAArU5U5gnNn9WZc5YtTL+H9QEAAABAyxOVGZe+nnpu3rgjW/ccqHoKAAAAAFAhUZlx6e2upSyTNeudwAAAAACAViYqMy5nnrgwC2Z3pn/QCQwAAAAAaGWiMuPS3lbk4lNrGRjanLIsq54DAAAAAFREVGbc+npqeXDn/gw+uLvqKQAAAABARURlxq23u54kGRhyAgMAAAAAWpWozLgdv3B2Tl06N1e6qwwAAAAALUtU5rD0dtfyzTu3Zt/B0aqnAAAAAAAVEJU5LH099ewfGcs379xa9RQAAAAAoAKiMoflvFMWZ0Z7m7vKAAAAANCiRGUOy5wZHXnaKYvSPzhc9RQAAAAAoAKiMoett7ue7z64Kw/u3Ff1FAAAAABgionKHLa+7nqSpH/QCQwAAAAAaDWiMoftycfNS23uzAwMOYEBAAAAAK1GVOawFUWRvu5a1qwfzthYWfUcAAAAAGAKicockb6eerbuOZBb7ttR9RQAAAAAYAqJyhyRi7trSeIEBgAAAAC0GFGZI1KbOzNPOX5+rvSwPgAAAABoKaIyR6y3u57r7tqW3ftHqp4CAAAAAEwRUZkj1tdTy8hYmWtu31L1FAAAAABgiojKHLFzT16U2Z3tGRhyAgMAAAAAWoWozBGb2dGeC1YuSb+7ygAAAADQMkRljkpvdy0btuzN3Vv2Vj0FAAAAAJgCojJHpa+nniTpdwIDAAAAAFqCqMxRWVHrygkLZ7urDAAAAAAtQlTmqBRFkb6eWq5evyUHR8eqngMAAAAATDJRmaPW113Prv0jufGe7VVPAQAAAAAmmajMUbtwZS1tRdI/6AQGAAAAADQ7UZmjtmBOZ85etjBXDg1XPQUAAAAAmGSiMhOit7uem+7dnu17D1Q9BQAAAACYRKIyE6Kvp56yTNas92llAAAAAGhmojIT4qwTF2TerI4MDIrKAAAAANDMRGUmREd7Wy4+tZb+oc0py7LqOQAAAADAJBGVmTC93fXcv2Nfbt+8u+opAAAAAMAkEZWZML3dtSTJlU5gAAAAAEDTEpWZMMsWz8mKWlcGhjZXPQUAAAAAmCSiMhOqr6eeb9yxJfsOjlY9BQAAAACYBKIyE6q3u5Z9B8ey7q5tVU8BAAAAACaBqMyEOn/FknS2F+kfdAIDAAAAAJqRqMyE6prZkXNPXpT+IQ/rAwAAAIBmJCoz4fp66rn1/p3ZtGtf1VMAAAAAgAkmKjPh+rrrSZKBQZ9WBgAAAIBmIyoz4U4/bn6WdM3IwJC7ygAAAADQbERlJlxbW5He7loGhoYzNlZWPQcAAAAAmECiMpOit7ueLXsO5Dv376x6CgAAAAAwgURlJkVvdy1J0u8EBgAAAAA0FVGZSbF0/qycduw8D+sDAAAAgCYjKjNpLumpZ+1dW7Nn/0jVUwAAAACACSIqM2l6u+s5OFrm2ju3VD0FAAAAAJggojKTZvXyRZnV2ZZ+JzAAAAAAoGmIykyaWZ3tOe+UJR7WBwAAAABNRFRmUvX11HPH5j25d9veqqcAAAAAABNAVGZS9XXXkiQDQ05gAAAAAEAzEJWZVKcunZvjFsxK/6ATGAAAAADQDERlJlVRFOnrrueq9cMZGR2reg4AAAAAcJREZSZdb08tO/eN5MZ7d1Q9BQAAAAA4SqIyk+7iU2spijiBAQAAAABNQFRm0i2cMyNnnrgwA0OiMgAAAABMd6IyU+KS7lpuuGd7duw9WPUUAAAAAOAoiMpMid6eesbK5Orbh6ueAgAAAAAcBVGZKXH2soWZN7Mj/U5gAAAAAMC0JiozJTrb23LByiXpHxxOWZZVzwEAAAAAjpCozJTp66ln4/aHcsfwnqqnAAAAAABHSFRmyvR115MkA4NOYAAAAADAdNVR9QBax0lL5mT5kjn5yLfuSWdHW05Z0pXlta4cO39W2tqKqucBAAAAAOMgKjOlXvX0k/LXXxnM737qlke+N6uzLcuXdD38V60rp9TmZPmSrpxS60p93swUheAMAAAAAI2imMqHpq1evbpcu3btlP0+GtPYWJn7d+7LhuE9uXN4zyOvd27Zk3u27s3B0e/9O9k1oz3La4di8/+Izou7ZgjOAAAAADAJiqJYV5bl6sd7zyeVmXJtbUVOWDg7JyycnYtOrT3qvZHRsdy3fV/u3PJ9sXl4T27ZuCNfuuWBjI59LzjPn9WRUw4F5//+ZPN/x+cFczqn+h8LAAAAAFqCqExD6Whvy0lL5uSkJXNySU/9Ue8dGBnLvdv2ZsOWPblj855s2LInG4b3Zu2Gbfnsjffl+z90v7hrRpYvmfM/PuH88Ovcmf61BwAAAIAjpa4xbczoaMuK+tysqM/NM0979Hv7Do7mnq17H/lk84YtD79evX5LPnndxkf9bH3ezEOh+XvR+ZR6V05e3JXZM9qn8J8IAAAAAKYfUZmmMKuzPd3HzEv3MfMe897eAyPZMLz3kdC84VB0/vptmzO8+95H/exxC2Y95oGBK+pdWbZ4TmZ2CM4AAAAAICrT9ObM6Mjpx8/P6cfPf8x7u/YdzIbhvY/ccN5w6IGBX7rl/mzbe/CRn2srkuMXzn74hMb3RedTanNz4qLZ6Wxvm8p/JAAAAACojKhMS5s3qzNPPXFBnnrigse8t33vge87pbH3kU84f/r6jdm1f+SRn2tvK7Js0exHPTDwv/86fuHstLcVU/mPBAAAAACTSlSGH2DhnBk556QZOeekRY/6flmW2bLnwMOfav6++813Du/NtXdszUMHRx/52RntbVm2+HufcD6l/r0HBx47f1baBGcAAAAAphlRGQ5TURSpzZ2Z2tyZWb188aPeK8sym3btf+R28/c/OLB/aDgHRsYe+dlZnW35iXNOyO+98PTMmeH/igAAAABMD0oWTKCiKHLM/Fk5Zv6snL9iyaPeGxsrc//OfY/E5pvv3ZGPfOueXHvn1rz7lefkjBMee4IDAAAAABpNUZbllP2y1atXl2vXrp2y3weN7urbh/MrH70h2/YczG8+77T8/EXLUxROYgAAAABQraIo1pVlufrx3mub6jHA91y4spYvvrUvfT21/PHnv5Of/+dvZcvu/VXPAgAAAIAfSFSGii3umpF//JnV+cMXPSVX3b4lP/augawZGq56FgAAAAA8LlEZGkBRFHndhcvzmTddlAWzO/PT/3Rt3vnF23JwdOyJ/zAAAAAATCFRGRrIk4+bn8+9+eK88mkn5X1X3p6fet81uWvLnqpnAQAAAMAjxh2Vi6JoL4ri+qIoPn/o68VFUXylKIqhQ6+LJm8mtI7ZM9rzZy99av7+Naty5+bdecG71+TT12+sehYAAAAAJDm8Tyq/Ncmt3/f1byX5WlmW3Um+duhrYII8/6nH5d/f2pvTjp2Xt330hrz9Yzdk9/6RqmcBAAAA0OLGFZWLojgxyQuSfOD7vv3iJJcf+vvLk7xkYqcBJy6ak4+8/vy85Vnd+fT1G/PCdw/k5nt3VD0LAAAAgBY23k8q/22S30jy/U8NO6Ysy/uT5NDr0gneBiTpaG/L25/Tkw//0vnZPzKWl152Vf6x/46MjZVVTwMAAACgBT1hVC6K4oVJNpVlue5IfkFRFK8vimJtURRrN2/efCT/E0CS81YsyRff2ptnnrY0f/rvt+Z1H/xmNu3aV/UsAAAAAFrMeD6pfFGSFxVFsSHJR5I8syiKDyV5sCiK45Lk0Oumx/vDZVm+vyzL1WVZrq7X6xM0G1rTwjkz8r7Xnps/eckZ+eadW/P8dw3kv777uP/XAwAAAIBJ8YRRuSzL3y7L8sSyLJcneWWSr5dl+dokn03yukM/9rokn5m0lcAjiqLIa88/OZ9988VZ0jUzP/vBb+VPv/CdHBgZe+I/DAAAAABHabw3lR/PO5M8pyiKoSTPOfQ1MEWedOy8fObNF+Wnzz85/zhwZ37ysqtz5/CeqmcBAAAA0OSKspy6h32tXr26XLt27ZT9PmgVX/72A/mNT9yUg6Nj+aMXn5GfXHVCiqKoehYAAAAA01RRFOvKslz9eO8dzSeVgQbx3Kccmy++tTdnnLAgv/bxG/O2j96QXfsOVj0LAAAAgCYkKkOTOH7h7Hz4l87Prz6nJ5+/6f684N1rcv3d26qeBQAAAECTEZWhibS3Fbn0Wd356OvPz+hYmZe975r8/X+tz9jY1J25AQAAAKC5icrQhFYvX5x/f0tvnvuUY/N/v/Td/PQ/XZtNO/dVPQsAAACAJiAqQ5NaMKcz73n1OXnnS5+adXdty4+9ayBfv+3BqmcBAAAAMM2JytDEiqLIK59+Uj5/6cVZOm9mfv6f1+YPP/ft7B8ZrXoaAAAAANOUqAwt4NSl8/LpN12Un71weT541Ya85L1XZ/2m3VXPAgAAAGAaEpWhRczqbM8fvOgp+cDPrM4DOx7Kj//dmnz0W3enLD3EDwAAAIDxE5WhxTz79GPypbf15exlC/Ob/3Zz3vzh67PjoYNVzwIAAABgmhCVoQUdM39WPvSL5+XXn/ukfOmWB/L8dw1k3V1bq54FAAAAwDQgKkOLam8r8qZnnJqPv+GCtLUlL/+Hb+Q9Xx/K6JhzGLZ59ZkAACAASURBVAAAAAD8YKIytLhVJy3KF97Sm+c/9bj85X8M5jUf+Ebu3/FQ1bMAAAAAaFCiMpD5szrz7leenb/4qTNz07078rx3DeQ/vv1A1bMAAAAAaECiMpAkKYoiL1u9LJ+/9OKcsHB2Xv//1uX3P3NL9h0crXoaAAAAAA1EVAYeZUV9bj75yxfmFy8+Jf9yzV15yXuvytCDu6qeBQAAAECDEJWBx5jZ0Z53vPD0fPDnnpbNu/bnhX+3Jldce1fK0kP8AAAAAFqdqAz8QM940tJ88W29efopi/O7n7olb/zQddm+90DVswAAAACokKgM/FBL583K5T/39Pz2807LV299MM9/10C+eefWqmcBAAAAUBFRGXhCbW1F/tclK/Nvb7wwnR1teeX7r8nffGUwI6NjVU8DAAAAYIqJysC4nbVsYb7wlt685OwT8q6vDeVV//iNbNz+UNWzAAAAAJhCojJwWObO7Mhfv+Ls/PXLz8p37tuZ5/1tf7548/1VzwIAAABgiojKwBF56aoT84W39GZ5rStvvOK6/M6nbs5DB0arngUAAADAJBOVgSO2vNaVT7zhwvyvS1bkX6+9Oy96z5rcev/OqmcBAAAAMIlEZeCozOhoy28/78n5l59/erbtPZgXv/eq/Ms1G1KWZdXTAAAAAJgEojIwIfp66vnS23pzwYol+f3PfDu/9C/rsm3PgapnAQAAADDBRGVgwtTmzswHf/ZpeccLnpwrBzflee8ayDW3b6l6FgAAAAATSFQGJlRbW5Ff7F2RT/3yRZk9oz2v/sA38pdf/m4Ojo5VPQ0AAACACSAqA5PijBMW5POXXpyfWnVi3vOf6/OKf7gm92zdW/UsAAAAAI6SqAxMmq6ZHfmLl52Vd73y7Aw9uDvPf/dAPnfjfVXPAgAAAOAoiMrApHvx2SfkC2/pzcr63Fz64evzG5+4MXsPjFQ9CwAAAIAjICoDU+KkJXPy8TdckF/+kZX5+Lp788K/W5Nv37ej6lkAAAAAHCZRGZgyne1t+Y0fOy1X/MJ52b1vJD/x3qvzT2vuTFmWVU8DAAAAYJyKqYw5q1evLteuXTtlvw9oXFv3HMivf/zGfO22Tbmkp54LVy6pelJDOHbBrLzorONTFEXVUwAAAIAWVhTFurIsVz/eex1TPQYgSRZ3zcgHXrc6l1+9IX/2xdty5eDmqic1jM279ucXe1dUPQMAAADgcYnKQGWKosjPXnRKXn3eyRkZG6t6TuXKMnn7x27In33xtpy1bGGetnxx1ZMAAAAAHsP5C4AGsnPfwfz4363JvoOj+cJbelObO7PqSQAAAEAL+mHnLzyoD6CBzJ/Vmb9/zaps33swb/3I9Rkd8xBDAAAAoLGIygAN5inHL8gfv/iMXLV+S9711cGq5wAAAAA8iqgM0IBe/rRledm5J+bdX1+f//rupqrnAAAAADxCVAZoUH/04jNy2rHz8isfvSEbtz9U9RwAAACAJKIyQMOaPaM9l7323BwcLfOmK67LgZGxqicBAAAAiMoAjeyUWlf+4qfOzA33bM//+fdbq54DAAAAICoDNLrnPfW4/MLFp+Sfr96Qz990X9VzAAAAgBYnKgNMA7/1vNOy6qSF+c1P3JTbN++ueg4AAADQwkRlgGmgs70t73n1qszsbM8bP7Quew+MVD0JAAAAaFGiMsA0cfzC2fnbV5ydoU27845P3ZKyLKueBAAAALQgURlgGunrqeetz+rOJ6/fmI98656q5wAAAAAtSFQGmGYufWZ3ertr+d+f/XZu2bij6jkAAABAixGVAaaZ9rYif/uKs7Oka0beeMW67Nh7sOpJAAAAQAsRlQGmoSVzZ+Y9r16V+7fvy69+/Eb3lQEAAIApIyoDTFPnnrwov/P8J+ertz6Y9/ffUfUcAAAAoEWIygDT2M9dtDzPf+qx+b9f/m6uvWNL1XMAAACAFiAqA0xjRVHkz3/yzJy0eE4u/fD12bxrf9WTAAAAgCYnKgNMc/Nmdeay167Kzn0H85YPX5/RMfeVAQAAgMkjKgM0gdOOnZ8/eclTc80dW/I3Xxmseg4AAADQxERlgCbxU+eemFc+bVne85/r8/XbHqx6DgAAANCkRGWAJvIHL3pKTj9ufn7lozfm3m17q54DAAAANCFRGaCJzOpsz2WvXZWxssybrrgu+0dGq54EAAAANBlRGaDJnLykK3/5srNy47078qdfuLXqOQAAAECTEZUBmtBzn3JsXt+3Iv9yzV35zA0bq54DAAAANBFRGaBJ/fpzn5SnLV+U3/7kzVm/aVfVcwAAAIAmISoDNKnO9rb83atWZXZne97woeuyZ/9I1ZMAAACAJiAqAzSxYxfMyrtfdU5u37w7v/upm1OWZdWTAAAAgGlOVAZochedWsvbn92TT99wX6649u6q5wAAAADTnKgM0ALe9IxT8yNPquePPved3HTv9qrnAAAAANOYqAzQAtraivzNy89Obe6MvPFD12X73gNVTwIAAACmKVEZoEUs6pqR975mVTbt2pdf/diNGRtzXxkAAAA4fKIyQAs556RFeccLTs/XbtuUf+i/o+o5AAAAwDQkKgO0mJ+54OS88Mzj8hdfvi3X3L6l6jkAAADANCMqA7SYoijyzp88M8trXbn0w9dn0859VU8CAAAAphFRGaAFzZ3Zkfe99tzs2T+SSz98fUZGx6qeBAAAAEwTojJAi+o5Zl7+9CfOyLV3bs1ffWWw6jkAAADANCEqA7Swl646Ma8+76Rc9l+356vfebDqOQAAAMA0ICoDtLjff+HpOeOE+Xn7x27IPVv3Vj0HAAAAaHCiMkCLm9XZnstec26S5I1XrMu+g6MVLwIAAAAamagMQJYtnpO/evnZuWXjzvzx579T9RwAAACggYnKACRJnnP6MXnDJStzxbV351PX31v1HAAAAKBBicoAPOLXfrQnTz9lcX7nk7dk8MFdVc8BAAAAGpCoDMAjOtrb8p5XnZOumR15w4fWZff+kaonAQAAAA1GVAbgUZbOn5V3v+rsbBjek9/+5M0py7LqSQAAAEADEZUBeIwLV9byqz/6pHzuxvvy/75xV9VzAAAAgAYiKgPwuN54yco887Sl+ePPfyc33LO96jkAAABAgxCVAXhcbW1F/vrlZ2XpvFl50xXXZdueA1VPAgAAABqAqAzAD7Rwzoxc9tpV2bxrf97+sRsyNua+MgAAALQ6URmAH+rMExfm93789Pzndzfnsitvr3oOAAAAUDFRGYAn9NrzTsqLzz4+f/Uf383V64erngMAAABUSFQG4AkVRZH/8xNPzYr63LzlI9fnwZ37qp4EAAAAVOQJo3JRFLOKovhmURQ3FkXx7aIo/vDQ9xcXRfGVoiiGDr0umvy5AFSla2ZH3vfaVdl7YDRv/tfrcnB0rOpJAAAAQAXG80nl/UmeWZblWUnOTvJjRVGcn+S3knytLMvuJF879DUATezUpfPyZy99ar61YVv+8svfrXoOAAAAUIEnjMrlw3Yf+rLz0F9lkhcnufzQ9y9P8pJJWQhAQ3nx2Sfkp88/Of/Qf0e+/O0Hqp4DAAAATLFx3VQuiqK9KIobkmxK8pWyLK9NckxZlvcnyaHXpZM3E4BG8o4XPjlnnrggv/bxG3PXlj1VzwEAAACm0LiiclmWo2VZnp3kxCRPL4rijPH+gqIoXl8UxdqiKNZu3rz5SHcC0EBmdrTnva9elbaiyBs/dF32HRytehIAAAAwRcYVlf9bWZbbk/xXkh9L8mBRFMclyaHXTT/gz7y/LMvVZVmurtfrRzkXgEaxbPGc/M0rzsp37t+ZP/zct6ueAwAAAEyRJ4zKRVHUi6JYeOjvZyd5dpLbknw2yesO/djrknxmskYC0JieedoxedMzVubD37wnn1h3b9VzAAAAgCnQMY6fOS7J5UVRtOfhCP2xsiw/XxTFNUk+VhTFLyS5O8nLJnEnAA3qV57dk3V3bcs7Pn1zzjhhfk47dn7VkwAAAIBJVJRlOWW/bPXq1eXatWun7PcBMDU27dqXF7x7TebN7MhnL704c2eO579ZAgAAAI2qKIp1ZVmufrz3DuumMgA8nqXzZuU9rzond23dm9/8t5sylf/BEgAAAJhaojIAE+K8FUvy6899Ur5w0/25/OoNVc8BAAAAJomoDMCEeX3vijz7ycfkT//91lx397aq5wAAAACTQFQGYMK0tRX5q5edlWMXzMqbr7guW/ccqHoSAAAAMMFEZQAm1II5nbnsNedmeM+BvO2jN2RszH1lAAAAaCaiMgAT7owTFuQPfvwp6R/cnPf85/qq5wAAAAATSFQGYFK86unL8tJzTsjffHUwa4aGq54DAAAATBBRGYBJURRF/uQnzkj30rl5y0euz/07Hqp6EgAAADABRGUAJs2cGR257LXnZv/B0bz5X6/PwdGxqicBAAAAR0lUBmBSrazPzTt/8sysu2tb/vyLt1U9BwAAADhKojIAk+7Hzzo+P3vh8nxgzZ350i33Vz0HAAAAOAqiMgBT4nee/+ScvWxhfv3jN+XO4T1VzwEAAACOkKgMwJSY0dGW975mVdrbi7zxQ+uy7+Bo1ZMAAACAIyAqAzBlTlg4O3/7irPz3Qd35X9/5ttVzwEAAACOgKgMwJT6kSctzaXPODUfXXtPPrb2nqrnAAAAAIdJVAZgyr312T256NQl+b1P35L/v707j6/jqu8+/v1d7au1XTleZEteRWKahDibbRLLpXlKy1oIKUshyavwAG0pz/NQaEvLQ6ELEPpAKaUU2oQAIQ1LEiBAAiTygpPYsZ3YcYjkBEveHS22FVmyrOWe54850r1afWXLmnulz/v1uq87mpk7OnNm5syZ35w58+ujL4edHAAAAAAAMAkElQEA0y4jYvqXP7xSJflZ+uA9O/VyT1/YSQIAAAAAAEkiqAwACEVFYY6+/I5X6dDJM/rY9/fIORd2kgAAAAAAQBIIKgMAQnN1dZn+8ndr9bO9x3Xn1uawkwMAAAAAAJJAUBkAEKo/fnWNbrp0rv7pp89r54ETYScHAAAAAACcA0FlAECozEx33Hy5FpTm6U/ueVrtp8+GnSQAAAAAADABgsoAgNDNycvSV975Kp3o7tWH73tGAzH6VwYAAAAAIFURVAYApITL5s/Rp994mba80KYvPfpC2MkBAAAAAADjyAw7AQAADHrb6io91XxSX3rsBc0vydXi8oKwk5QSXnFJsebkZ4WdDAAAAAAAJBFUBgCkEDPTp9+4SnuPdOhjP3g27OSkjNysiN7yqoW6bW21llUWhZ0cAAAAAMAsR1AZAJBS8rIz9IMPrNHuw6fCTkpK6Btw+umeY/rezsO6Z9tB3bAiqtvWVuvG5VFFIhZ28gAAAAAAs5A5N30vQ1q9erXbsWPHtP0/AABmivbTZ3Xv9oP65hMH1NJ5VkuiBbptTbX+4FULVZDDPWIAAAAAwNQys53OudVjTiOoDABA+ujtj+lne4/pzl81affhDhXlZurt1yzSu69frIWl+WEnDwAAAAAwQxBUBgBghnHOadfBU7pza5Me3ntczjn9j8su0W1ra3R1danM6BoDAAAAAHD+Jgoq87wsAABpyMx01eJSXbW4VEdPndE3nzige7cf1M/2HteqBcW6bU2NXnf5POVkZoSdVAAAAADADENLZQAAZoju3n498PQR3bW1WS+2nFZFYY7edd0ivfPaxYoW5YSdPAAAAABAGqH7CwAAZhHnnLa80Ka7tjapvrFV2RkRvf7y+bptbbVWLZgTdvIAAAAAAGmA7i8AAJhFzEw3rIjqhhVR/ab1tO5+vFnf33lYP9h1WNfUlOn2tTX6nUvnKiNCv8sAAAAAgMmjpTIAALNAx5k+ffepQ/rG4806cuqMFpbm6dY11bp5dZXm5GWFnTwAAAAAQIqh+wsAACBJ6h+I6ZfPv6Q7f9Ws7c0nlJ+doZuvWqj3rKnWkmhh2MkDAAAAAKQIgsoAAGCUvUc6dOfWJj20+5h6B2KqWxnV7etqtG5ZhczoGgMAAAAAZjOCygAAYFwtnT2658mDumfbAbWd7tXyykLdtrZGb75ygfKyM8JOHgAAAAAgBASVAQDAOZ3tH9CPdx/TXVub9NzRl1WSn6W3X7NI775+sebNyQs7eQAAAACAaURQGQAAJM05p+1NJ3TX1mb9/NfHZWZ67apLdPu6Gr1qUWnYyQMAAAAATIOJgsqZ050YAACQ2sxM1y4p17VLynXoRLe++USz/vupQ3pozzFdXlWi29dW67Wr5ik7MxJ2UgEAAAAAIaClMgAAOKeus/36wa7Dumtrs5raujS3OEd/dN1ivePaxSoryA47eQAAAACAKUb3FwAAYErEYk6b9rXqzq1N2vJCm3IyI3rTFQt027pq1V5SHHbyAAAAAABThO4vAADAlIhETHW1laqrrdS+lzp119ZmPfD0Yd2345DWLC3X7WtrtKG2UpGIhZ1UAAAAAMBFQktlAABwQU529erepw7qW08c0LGOHi0uz9eta6p18+oqFeZw/xoAAAAA0hHdXwAAgIuubyCmR547rjt/1aRdB0+pMCdTb1tdpVvXVGtReX7YyQMAAAAATAJBZQAAMK2eOXRKd21t0k/2HNOAc3rNK+bqtrXVun5JuczoGgMAAAAAUh1BZQAAEIrjHT369pMHdM+2AzrZ3afaS4p0+9oaveGK+crNygg7eQAAAACAcRBUBgAAoerpG9APnzmiu7Y2q+F4p8oLsvWOaxfpXdct1tzi3LCTBwAAAAAYgaAyAABICc45PfGbdt25tVmPNrykzIjp9185T7etrdHlVSVhJw8AAAAA4E0UVOaV7AAAYNqYmdYsq9CaZRVqbuvS3U8067tPHdKDzxzVVYtLddvaav3uZZcoMyMSdlIBAAAAAOOgpTIAAAjVyz19+t6Ow7r78WYdPNGt+XNy9e411frDq6tUkp8ddvIAAAAAYFai+wsAAJDyBmJOjz7/ku7a2qwn9rcrNyuit7xqoW5bW61llUVhJw8AAAAAZhWCygAAIK08f+xl3bW1SQ8+c1S9/TG9enmF3nN9tRaU5oWdtJSQlRHRwtI85WZlhJ0UAAAAADMUQWUAAJCW2k+f1Xe2HdS3njygls6zYScnpZhJ8+fkqaaiQNUV+aouL1BNRfCpKstXFv1SAwAAALgABJUBAEBa6+2P6Yn97TrT2x92UlLCmb4BHWjvVlNbl5rbutTU1qWXe+J5kxExLSzNGwo0V5fnqyZaqJryAi0ozVNGxEJMPQAAAIB0MFFQOXO6EwMAADBZ2ZkR3bgiGnYyUpZzTie7+4YFmZvag+EdzSfU1TswNG9WhqmqLF81gwHnivj3vOJcRQg4AwAAADgHgsoAAABpzsxUVpCtsoJsXbW4dNg055xaT59Vc1u3mtpOq6mtW81tXWpu79LW37Sppy82NG9OZkSLy/PjwebyeNC5sihHZgScAQAAABBUBgAAmNHMTJVFuaosytU1NWXDpsViTsdf7glaN7cPtnLu1m9au1Tf0KregXjAOT87I96dRkIfztUVBSovyCbgDAAAAMwiBJUBAABmqUjENL8kT/NL8rRmWcWwaQMxp6OnzgRdarR3DXWt8dzRDj383HENxOLv5SjKzfR9Nw+2bI4HnUvys6d7tQAAAABcZASVAQAAMEpGJOh7uaosXzdoeH/WfQMxHT55Zqj/5sGg866DJ/XjPUeV+B7o0vysYV1pVFcUaIn/LsyhKgoAAACkI2ryAAAAmJSsjIhqfF/LdSOmne0f0KET3UN9N+/3LZyf2N+u+58+MmzeisKcoVbNicHm6vIC5WVnTN8KAQAAAJgUgsoAAACYMjmZGVpWWaRllUWjpp3pHdCBE11qao334dzc1q2N+1rVuvPwsHkvKc5VdUX+UPB6sDuNReX5yskk4AwAAACEiaAyAAAApkVedoZqLylW7SXFo6adPtsf704j4cWBjzz3kk509Q7NZybNn5M3FGyuKMwR7wgMLK8s1LrlFSrKzQo7KQAAAJjhCCoDAAAgdIU5mVq1YI5WLZgzalpHd99QkHmwD+fmti49+MwRdfb0h5Da1JUZMV1dXaa62qg21FZqabRQRtQdAAAAU8xc4ptULrLVq1e7HTt2TNv/AwAAwMzlnFNs+qqyKW0g5vTMoVOqb2xRfUOLGo53SpIWluapbmWlNtRW6rol5fRVDQAAgKSZ2U7n3OoxpxFUBgAAAGaWo6fO+ABzq7a+2KYzfQPKyYzo+qXl2lBbqbqVlaoqyw87mQAAAEhhBJUBAACAWaqnb0Dbm06ovrFFGxtb1dTWJUlaGi0YCjCvri5TdmYk5JQCAAAglRBUBgAAACBJamrrUn1Di+obW7Rt/wn1DsRUmJOpdcsqVFcb1fqVlZpbnBt2MgEAABAygsoAAAAARuk626/Hf9M+1BfzsY4eSdJl84tVt7JSdbVRXVFVqowIL/sDAACYbQgqAwAAAJiQc06NL3WqvqFV9Q0t2nnwpAZiTiX5WbpxRVR1Kyt1w4qoygqyw04qAAAApgFBZQAAAACT0tHdpy0vtqq+oVWb9rWo7XSvzKQrq0p8K+ZKXTa/WGa0YgYAAJiJCCoDAAAAOG+xmNOzRzr0WEOLNja2aPfhDklSZVGO1q8MWjGvW16hotyskFMKAACAqUJQGQAAAMCUae08q037WlXf2KLN+1rV2dOvzIjp6uoy1dVGtaG2UkujhbRiBgAASGMElQEAAABcFP0DMe06eGqoFXPD8U5J0sLSPNWtrNSG2kpdt6RcedkZIacUAAAAk0FQGQAAAMC0OHrqjOobW1Tf0KqtL7bpTN+AcjIjun5puTbUVqpuZaWqyvLDTiYAAADOgaAyAAAAgGnX0zeg7U0nfJC5Rc3t3ZKkpdGCoQDz6uoyZWdGQk4pAAAARiKoDAAAACB0TW1dqm9oUX1ji7btP6HegZgKczK1blmF6mqjWr+yUnOLc8NOJgAAAERQGQAAAECK6Trbr8d/0z7UF/Oxjh5J0mXzi1W3slJ1tVFdUVWqjAgv+wMAAAgDQWUAAAAAKcs5p8aXOoMAc0Ordh48qYGYU0l+lm5cEVXdykrduCKq0oLssJMKAAAwaxBUBgAAAJA2Orr7tPmFVtU3tmhTY6vau3oVMemKqhLfirlSl80vlhmtmAEAAC4WgsoAAAAA0lIs5rTnSIfqfTcZuw93SJIqi3K0fmXQinnd8goV5WaFnFIAAICZhaAyAAAAgBmhtfOsNu0LWjFv3teqzp5+ZUZMV1eXqa42qg21lVoaLaQVMwAAwAUiqAwAAABgxukbiGnXgZOqb2xVfUOLGl/qlCQtLM3ThtpK1a2s1HVLypWXnRFySgEAANIPQWUAAAAAM96RU2eGusnY+mK7zvQNKCczojVLy1Xng8xVZflhJxMAACAtEFQGAAAAMKv09A1oe9MJ1Te2qL6hRc3t3ZKkpdGCoVbMq6vLlJ0ZCTmlAAAAqYmgMgAAAIBZramtS4/5Vszb9p9Q70BMhTmZWresQnW1Ua1fWam5xblhJxMAACBlEFQGAAAAAK/rbL+2vtim+sZWbWxs0bGOHknSZfOLVbeyUnW1UV1RVaqMCC/7AwAAsxdBZQAAAAAYg3NODcc7Vd/Yoo0Nrdp58KQGYk4l+Vm6cUVUdSsrdeOKqEoLssNOKgAAwLS6oKCymVVJ+qakSyTFJH3NOfcvZlYm6T5J1ZKaJb3NOXdyomURVAYAAACQyjq6+7T5hVbVN7ZoU2Or2rt6FTHpiqoS34q5UpfNL5YZrZgBAMDMdqFB5XmS5jnndplZkaSdkt4k6VZJJ5xznzGzv5RU6pz72ETLIqgMAAAAIF3EYk57jnSovqFF9Y0t2nO4Q5JUWZSj9SuDVszrlleoKDcr5JQCAABMvSnt/sLMfijpy/6z3jl3zAeeNzrnVk70W4LKAAAAANJVa+dZbdoXtGLevK9VnT39yoyYrq4uU11tVBtqK7U0WkgrZgAAMCNMWVDZzKolbZa0StJB51xJwrSTzrnSiX5PUBkAAADATNA3ENOuAydV39iq+oYWNb7UKUlaWJqnupWV2lBbqeuWlCsvOyPklAIAAJyfKQkqm1mhpE2S/sE5d7+ZnUomqGxm75P0PklatGjRVQcOHDifdQAAAACAlHXk1BltbGxRfUOLtr7YrjN9A8rJjOj6peXaUFupupWVqirLDzuZAAAASbvgoLKZZUl6SNIjzrn/58c1iu4vAAAAAGCYnr4BbW86ocd8X8wH2rslSUujBUMB5tXVZcrOjIScUgAAgPFd6Iv6TNLdCl7K9+GE8XdIak94UV+Zc+6jEy2LoDIAAACA2aaprUuPNbRoY2OLtu0/od6BmApzMrVuWYXqaqNav7JSc4tzw04mAADAMBcaVF4naYukZyXF/Oi/lrRN0nclLZJ0UNLNzrkTEy2LoDIAAACA2azrbL+2vtim+sZWbWxs0bGOHknSZfOLVbeyUnW1UV1RVaqMCC/7AwAA4ZqyF/VdKILKAAAAABBwzqnheKfqG1u0saFVOw+e1EDMqSQ/SzeuiKpuZaVuWBFVWUF22EkFAACzEEFlAAAAAEhxHd192vxCq+obW7SpsVXtXb0yk66sKvGtmCt12fxiBT0UAgAAXFwElQEAAAAgjcRiTnuOdKjev+xvz+EOSVJlUY7WrwxaMa9bXqGi3KyQUwoAAGYqgsoAAAAAkMZaO89q076gFfPmfa3q7OlXZsR0dXWZ6mqj2lBbqaXRQloxAwCAKUNQGQAAAABmiL6BmHYdOKnHfF/MjS91SpIWluapbmWlNtRW6rol5crLzgg5pQAAIJ0RVAYAAACAGerIqTOqb2jRxsYWbX2xXWf6BpSTGdHlC0uUnRkJO3kpoTAnU4sr8rWkokDV5QWqqShQtCiHlt0AAEyAoDIAAAAAzAI9fQPa3nRCjzW0aO+RDk3f+BCtUwAAHOVJREFU1V5qO9Xdq4MnutU3EM+RguwMLS4vUE20QDXlBaquKFBNRb6qywtUVpBNwBkAMOtNFFTOnO7EAAAAAAAujtysDN2wIqobVkTDTkrK6R+I6eipHjW1d6m5rUtNbV1qbu/Sc0c69PDe4xqIxQPORbmZQavmhJbN1RVB8HlOPi9HBACAoDIAAAAAYMbLzIhoUXm+FpXn68YRQfe+gZgOnehWc3uXmtq6h4LOO5pP6ke7jyrxAd+ygmxVl+cPBZmDFs7Bd2EOl9gAgNmBMx4AAAAAYFbLyohoSbRQS6KFo6b19A3o0InuoZbNTT7g/PiL7bp/15Fh80aLcnygOR50rokWaHFZAS9OBADMKASVAQAAAAAYR25WhpbPLdLyuUWjpnX39utAe9CyeX9b0K1Gc3uXHmtoVdvpw8PmnTcnV9W+ZfNg1xo1FfmqKstXTiYBZwBAeiGoDAAAAADAecjPztQr5hXrFfOKR03r7OnTgfbueLC5rUtN7V16eO8xnezuG5ovYtL8kjzVDHajkdCH88LSPGVlRKZzlQAASApBZQAAAAAAplhRbpZWLZijVQvmjJp2qrs3oTuN7qEWzg/sOqLOs/1D82VGTAtL8+IvCkwIOs8vyVNGxKZzlQAAGEJQGQAAAACAaVSSn60rF2XrykWlw8Y759Te1Tv0osDm9i41twWtnbc1nVB378DQvNn+xYNBkHn4iwMvKc5VhIAzAOAiIqgMAAAAAEAKMDNVFOaoojBHq6vLhk1zzqml82wQbPZdaTS1BoHnzS+0qrc/NjRvblYk6L+5PN5382AL56LcrOleLSBtZGdGeAIASBJBZQAAAAAAUpyZaW5xruYW5+q6JeXDpsViTsde7om3cPbf+1o69WjDS+obcCGlGkgv2RkRVZXlxbuaifIEADAegsoAAAAAAKSxSMS0oCRPC0rytHZZxbBp/QMxHT3Vo6b2INh8pm9gnKUAONnd61+s2a0tL7Tp7IgnABaXFai6Il81FYXDngCIFuXIjIAzZheCygAAAAAAzFCZvu/lReX5unFFNOzkAGljrCcAmtu79GLLaT3W0DLsCYCC7AwtHtGyeTDoXFaQTcAZMxJBZQAAAAAAACDBZJ4AGHyx5t4jHXp473ENxOIB5+LczKA7jcEuNfxwTXmB5uTTxznSF0FlAAAAAAAAIEkTPQHQNxDToRPdam7vUlNb91DQeUfzSf1o91G5hC7OywqyVV2ePxRkDlo4B9+FOYTskNrYQwEAAAAAAIApkJUR0ZJooZZEC0dN6+kb0KET3UMtm5t8wPnxF9t1/64jw+aNFuX4QHMQdF6S0No5NytjulYHGBdBZQAAAAAAAOAiy83K0PK5RVo+t2jUtO7efh1oD1o270/ow/mxhla1nT48bN55c3JV7Vs2DwabayryVVWWr5xMAs6YHgSVAQAAAAAAgBDlZ2fqFfOK9Yp5xaOmdfb06UB7dzzY3NalpvYuPbz3mE529w3NFzFpfkmeaga70Ujow3lhaZ6yMiLTuUqY4QgqAwAAAAAAACmqKDdLqxbM0aoFc0ZNO9Xdm9CdRvdQC+cHdh1R59n+ofkyI6aqsvx4H84JQef5JXnKiNh0rhJmAILKAAAAAAAAQBoqyc/WlYuydeWi0mHjnXNq7+odelFgc3uXmtuC1s7bmk6ou3dgaN5s/+LBIMg8/MWBlxTnKkLAGWMgqAwAAAAAAADMIGamisIcVRTmaHV12bBpzjm1dJ4Ngs2+K42m1iDwvPmFVvX2x4bmzc2KBP03l8f7bq6pKFR1Rb6ihTkyI+A8WxFUBgAAAAAAAGYJM9Pc4lzNLc7VdUvKh02LxZyOvdwTb+Hsv/e1dOrRhpfUN+CG5i3IzlD14IsCh4LOwac0P4uA8wxHUBkAAAAAAACAIhHTgpI8LSjJ09plFcOm9Q/EdPRUj5ra48HmprYu7T3SoYf3HtdALB5wLs7NHHpJYHV5gZZE462d5+RlTfdq4SIgqAwAAAAAAABgQpm+7+VF5fm6cUV02LTe/pgOn+xWc3uX9rfG+3De0XxSP9p9VC4eb1ZZQfbQCwOXJASeayoKVJBDqDJdsKUAAAAAAAAAnLfszIiWRAu1JFqoDbXDp/X0DejQieAlgc3+pYFNbV16/MV23b/ryLB5o0U5qvEB5sE+nAeDzrlZGdO4RjgXgsoAAAAAAAAALorcrAwtn1uk5XOLRk3r7u1Xc1v3UKB5MOj8aEOL2k6fHTbvvDm58WBzwosDq8rylZNJwHm6EVQGAAAAAAAAMO3yszN16fxiXTq/eNS0zp4+Nbd1D/Xh3NzWpab2Lv3s2WM62d03NF/EpAWleUNdaFQntHReWJqnrIzIdK7SrEFQGQAAAAAAAEBKKcrN0isXztErF84ZNe1Ud2/Qsrm9S01t3UMtnB/YdUSdZ/uH5suMmKrK8of6cE4MOs8vyVNGxKZzlWYUgsoAAAAAAAAA0kZJfrauXJStKxeVDhvvnFN7V2/Qqrkt/sLA/W1d2tZ0Qt29A0PzZvsXDwZB5vyhbjVqogWaW5SrCAHnCRFUBgAAAAAAAJD2zEwVhTmqKMzR6uqyYdOcc2rpPDvUd3NTe5eaWoPA8+YXWtXbHxuaNzcrouryoFXzB+uW6rcWlkz3qqQ8gsoAAAAAAAAAZjQz09ziXM0tztV1S8qHTYvFnI693DPUwnkw8LyvpVN9A7Fxlji7EVQGAAAAAAAAMGtFIqYFJXlaUJKntcsqwk5OWuD1hwAAAAAAAACApBFUBgAAAAAAAAAkjaAyAAAAAAAAACBpBJUBAAAAAAAAAEkjqAwAAAAAAAAASBpBZQAAAAAAAABA0ggqAwAAAAAAAACSRlAZAAAAAAAAAJA0gsoAAAAAAAAAgKQRVAYAAAAAAAAAJI2gMgAAAAAAAAAgaQSVAQAAAAAAAABJI6gMAAAAAAAAAEgaQWUAAAAAAAAAQNIIKgMAAAAAAAAAkkZQGQAAAAAAAACQNILKAAAAAAAAAICkEVQGAAAAAAAAACSNoDIAAAAAAAAAIGkElQEAAAAAAAAASSOoDAAAAAAAAABIGkFlAAAAAAAAAEDSCCoDAAAAAAAAAJJmzrnp+2dmrZIOTNs/TC0VktrCTkSKIC/iyIs48iJAPsSRF3HkRRx5ESAf4siLOPIijrwIkA9x5EUceRFHXgTIhzjyIo68iJvNebHYORcda8K0BpVnMzPb4ZxbHXY6UgF5EUdexJEXAfIhjryIIy/iyIsA+RBHXsSRF3HkRYB8iCMv4siLOPIiQD7EkRdx5EUceTE2ur8AAAAAAAAAACSNoDIAAAAAAAAAIGkElafP18JOQAohL+LIizjyIkA+xJEXceRFHHkRIB/iyIs48iKOvAiQD3HkRRx5EUdeBMiHOPIijryIIy/GQJ/KAAAAAAAAAICk0VIZAAAAAAAAAJA0gsppwsw+bGb5YadjImZWbWZ7JzH/J83sIxczTdPFzErM7IN+eL2ZPTRFy73VzL48FcuabuPtD2b2n2Z2qR/+63Ms46dmVnKx0oj0N9lyZyYys41mxpuIE5jZmwbLGWCQmTWbWUXY6ZhKZnZ6nPHfMLO3Tnd60pGZPR52GiZrRL1zvpl9P+w0TbfEPJjNzOxDZva8md0zyd9Vm9k7Lla60tHI65J0LBsulpl2/hw8dyaWn+l83R0WM/uUmb0m7HQka6rjTzMpnnUhCCqnATPLkPRhSSkdVJ7lSiTN+optMpxzf+yc+7X/c8ygsgUizrnfc86dmsbkzQiD+Rd2OjAxtlNyzCzzPH72JkkpH1RmH0AyfD0QU2wwX51za8JOy3kYqnc6544652bjDQTq3oEPSvo959w7J/m7akmTDirP8PJo2HVJmpYNU24mb/NZXH4mbaJ6uHPuE865X05nepB6uJA5BzMrMLOfmNluM9trZrck3qkzs9VmttEPf9LMvmVmj5nZC2b2Xj9+vZltNrMHzOzXZvbVwYtIM3u7mT3rl/3ZhP972t/52Sbp45LmS6o3s/rpzoNJyjCzr5vZc2b2czPLM7OlZvawme00sy1mVjvyR76l3RfN7HGfF9eEkfgL8BlJS83sGUl3SCo0s++bWYOZ3WNmJklm9gkze8qv49cSxm80s8+a2XYz22dmrx75D8zs983siTS7S5xpZneb2R6fH/l+XVeb2Wck5ZnZMz6Pqn1Li69I2iWpavBYM7Or/TJy/TH5nJmtCnndxmRmD/p9/Tkze58fd9rM/sGXI0+a2Vw//ma/L+w2s81+3E/N7Lf88NNm9gk//Gkz+2M//Bd+P9pjZn/nx43Kv+lf+3Mzs7/1x8UvzOxeM/uImV3h82WPLydL/bzjjb/K59kTkv4k1BWapDG209+OsS1HnXf8+N/2+8SzZnanmeWMWPYHzOxzCX/famb/Op3rdz7G2Sc2mtk/mtkmSX/ut/kmf2w9Ymbz/G/f6/Nvt5n9wJcxayS9QdIdvnxZGuoKjnCB+0Bzwrliu5kt8+MXm9mjfhmPmtkiP/4bZvYlC86t+823XDWzeRbUS57xyx91zglTQh4lVZ8ws6jf/k/5z1o/vtz/9mkz+w9JFuqKjcGva4ONPlc2W1Bn+JWkm22c+qJfxj+b2S6/7aNj/I/xjp+NZvYFvy88b8G59n4L6rB/P01ZkDQz+7iZNZrZL0eUFav99Aoza/bDGWZ2R8Kx9T/9+PVmVm9m35H0rB83ZmvvFDdU7zSz75l/YseX+w+a2Y/NrMnM/tTM/rc/Bp40szI/3znr5mkgMQ/usDHqRtLY9TI//rQvT3f6feoavz/tN7M3hLJGk2RmX5W0RNKP/PFxp8+Dp83sjX6ear+Nd/nPYKD0M5Je7fPvf9mIVppm9pCZrffDidel10/vWg43ReXAqHOgjbgu8fMNtmY1v5y9vhwePCev9/971DVfqjCzj5rZh/zwF8zsMT/822b2bUsuFnF9wvg8X3a8d9pX5iKw8Z+sHbruNrOb/PAuX94WhpHWC2Vjx7Umqh8M1sM/bkGdZDB+lW9mh8wsyxKeirKgDvG4X/52MysKcXWHJJYZklb6caPOgWY2Z4L1TCaeNd51a7rHuc7NOcdngo+kt0j6esLfcyQ1S6rwf6+WtNEPf1LSbkl5kiokHVIQDF4vqUfBST9D0i8kvdVPOygpKilT0mOS3uSX5SS9LeH/Dv3PVP0ouOPdL+kK//d3Jb1L0qOSlvtx10p6LCG/PuKHNw7ms6QbJO0Ne33OY933+uH1kjokLVRw4+YJSev8tLKE33xL0usT1v+f/fDvSfqlH75V0pclvVnSFkmlYa/rJPPESVrr/75T0kf8uq72406PmD8m6bqEcYnH2t9L+rykf5P0V2Gv3wTrXea/8yTtlVTu82FwW39O0t/44WclLfDDJf77LxUESoslPSXpET++XsGJ8CYFb541v3895I+ZUfmXah8F5eUzPm+KJL3g94k9km7083xK0hf9cDLj70in8iJxO02wLcc67+QqOKes8OO+KenDfnijz9uopBcTfvcz+bInVT8T7BMbJX3Fz5Ml6XFJUf/3LZLu9MPlCcv6e0l/5oe/IemtYa/fVO4D/rtZ0sf98LslPeSHfyzpPX74dkkPJuTD9/yyLx3cPyT9n4TlZEgqCjtfxsijydQnvqP4eXaRpOf98JckfcIP/76Csjil6lIa/1zZLOmjfty56ovv9MOfkPTlxGPgHMfPRkmf9cN/LumopHmSciQdTjy+wv5IukrBOTNfwfnxRY2uU1RIavbD71P8XJsjaYekGgV1tC5JNQnLPj2d6zKF+83eMYZv9XlT5PeXDknv99O+oPh5Y8xjKZ0+I9Z7zLLUTxtVL/N/O0mv9cMPSPq5P14ul/RM2Os3iXxo9vv+P0p6lx9XImmfpAJ/zOT68csl7fDD6+XPIQn7zpcT/n5I0vqEvHrbxV6XJNZ1qsqBMc+BI8uCwb8VnJN/4eedq6A8nqcJrvlS5aOgrvE9P7xF0na/n/9f/5lMLKJa0i8lvTvs9ZqCfBnctonlyK0acd3t96fNkgr8PB+Tr1ek20djX19MVD/4SsK8P5RUlzDff/rhbyioa2RL2i/paj++WFJmCqzzeGXGePXJ8dYzmXjWeNetG5XGca5kPufzSOls86ykz/s7dw8557ac4wbkD51zZySdsaBV8TWSTkna7pzbL0lmdq+kdZL6FASkW/34exTsaA9KGpD0g4u0ThdTk3PuGT+8U0FBvUbS9xLyLWeM30nSvZLknNtsZsVmVuLSt+uD7c65w5JkQevlakm/klRnZh9VULCVSXpOQTBAku7334P5NqhOQeDlJufcyxc95VPrkHNuqx/+tqQPnWP+A865J8eZ9ikFQdaeJJYTpg+Z2Zv9cJWCCnyvgsq5FGzf3/HDWyV9w8y+q/j236Jg/Zok/UTS71jQn3q1c67Rtwy4SdLTfv5C/z8OauL8SwXrFC8jZWY/VnDBU+Kc2+TnuVtBeTEnyfHfkvTaaVuDqXHAOfekmX1eY2/LLRp93rlcQfm6z897t4KbD18cXKhzrtWCFlbXKQjOrlSwj6WysfaJQff575WSVkn6hT+PZEg65qetsqBFZYmC/HtkOhI9BSa9DyT89t6E7y/44esl/YEf/paCm1eDHnTOxST92vxTEgrK0jvNLMtPf0apZzL1iddIujRhfLFvIXODfL44535iZienId3nY7xz5eAxcLXGry/GEub7tuLnkkETHT+S9CP//ayk55xzx/z/2K/gHNZ+oSs3RV4t6QHnXLckmdmPzjH/TZJ+y+L9Ss9R/Hy83TnXdNFSGr5651ynpE4z61C8nvmsgjwpVPJ183Rxk8YuSzdr7HpZu4J94WE//llJZ51zfWb2rIbXw9PFTZLeYPH+PXMV3GQ7KunLZnaFguvLFeex7FS5Lp2qcmCy58B1ku51zg1Iesm33rxa0ssa/5ovVeyUdJU/J55V8ITUagV5+WNNLhbxQ0mfc85Nqv/uNDPsutvMXqfgpvxWX15mK7h5kI6GxbUkndTE9YP7RgzfoqCR0x9K+sqIZa+UdMw595QkpVDMYqwyI1fjnwNHrWcy58zxrlsTZplJca5RCCqfg3Nun5ldpaD16D+Z2c8VtJ4Z7Dokd+RPxvl7rPETRad7/Ikr3ZxNGB5QcDf3lHPuiiR+O17epaOR+ZBpZrkKCuDVzrlDZvZJDd9/zibOnzB+v4JW7isU3GFPJ5Pdpl0TTCtTcJGQpSDfJpo3FBY8JvgaSdc757ot6BonV1Kf87cnlbB9nXPvN7NrFbSge8ZX+J9SUJnZr6BVRIWk9yqoFEpBufFPzrn/GPG/q5WCeTLCVDwSaErvskGKb6cxt6UUPK6u4eedc104DbpP0tskNSioRKV6Xk20TyTm03POubEeuf2GglY1u83sVgWthtLBpPcB59yn/KTEbTre9k0cn3g+MmmoUnuDgrLnW2Z2h3Pum+exHhfTZOoTEQXl7pnEkb7yn+rHgDT+uTJxPznfZU10/EjxfI5peJ7HlHrXCWNty/Hq5KbgyYVhN5r8eTrVz5UXauR2TNzGmQryK9m6eboYr260XmPXy6ThdbOhfHLOxez8+vIPm0l6i3OucdjI4HrjJQUtsCMKGmeMJfFYkoYfT6l0XXrB5YAkTfIcOFEZPOqab4J5p52/UdIs6TYFrVL3KAicLlXQIOWqcX461jbfKum1ZvadNKhfnq+R190m6RfOubeHmqopMDKupeA6c6L6QeK58kcK6qNlCvaZx0bMm8rXZyPTNdE5cKz1LJhg/vNNQ6rm1XmhT+VzMLP5krqdc99W8Oj9qxQ8/jFYAL9lxE/eaEG/r+UKLm6f8uOvMbMa30fLLQruYG6TdKMFffVkSHq7pE0aW6eCR9nSzcuSmszsZmmoT6rLx5l3sH+qdZI6nHMd05TGqZDM9hms5LT5O17JvhTggIKWVt80s8vOM31hWWRmgyeqt2v0nfs+30ogGV+T9LeS7pH02XPMG5Y5kk76C5daBY+cjcvMljrntjnnPiGpTVKVc65XQTcHb5P0pIIWix/x31LQEvN2vw/JzBaYWeXFWZ0p9ytJr/dlZKGCynyXpJMW79P1jyRt8sf/WONPSerw5YQkTfbFNKlkzG05znmnQVK1+T505fNjjGXer+AldW/X8BYGqWqsfWKkRknRwbLEgr7NBsvCIknHfDmSuC+kyzlzMvvAoFsSvgdbyzyuoEWFFOTDhK2kzGyxpBbn3Ncl/deI5aeqieoTP5f0p4Mz+ht0UtBK8Z1+3GsVPMqais51rpyovhhRvD7xjjF+O9Hxk042S3qzBf15Fkl6vR/frHidPLFe9YikDwzWMcxshZkVTFdip8F5l3G+BVmydfNUlpgH49WNJlUvS3OPSPozs6H3tVzpx89R0IIwpqDuMPjStZH7ULOkK8wsYmZVCp62TTVTUg5McA4c77pks6RbLOijOaqgNe/2qVyxi2yzgmuJzQquJ96voOuxJ5V8LEIKulhq1+hWqjPJyOvuJyWttfg7LPLN7Hxa+4dujLrltUqyfuCcO61gn/8XBU/Qjbzh0CBpvpld7ZdVlCI358YqM7o1zjlwrPVM5pw53nVrwizpHOc6p1TY0KnulQpe9hNT0F3FBxT0yfVfZvbXCir6ibYreGR9kaRPO+eO+oLnCQUvRHilgp37AX8n/K8UNK83ST91zv1wnHR8TdLPzOyYc65ualfxonunpH83s79R0Mr0vxX0PT3SSTN7XEF/N7dPY/oumHOu3cy2WtDR/xkFLQJGznPKzL6u4NGTZsVvOCSz/EYze6eCxy5e75z7zRQl/WJ7XtJ7LHhB0guS/l3xCqAU7Nd7zGyXghdSjsnM3i2p3zn3HV/pedzMNjjnRt4lDdvDkt5vZnsUXMifqyuKO8xsuYLj/1HFj4stkn7bXwRtUdBX2xZJcs793MxeIekJf91wWkFfo6nSgmRczrmnLHjsaLeCStsOBX3RvUfSVy3o5mO/gtYUmmD8bQoeW+xW+nR3MMoE23KZRpx3nHM9ZnabgjIgU0H58dUxlnnSzH4t6VLnXMpf8EywTyTO02vBo6tfsuDxskwF3X48p+BG0zb/22cVv0D+b0lft+DlNG9N1TJzMvtAws9yLHhxTkTBBaAUdJdwp5n9haRWxY+V8ayX9Bdm1uf/57unZo0uuvHqEx+S9G++7M1UUM96v6S/k3SvP8dsUtAqKxWNda78s8GJzrljE9QXuyRdZmY7FRw7tyQu+BzHT9pwzu0ys/sUBEIOKH6j9fOSvmtmf6ThLaf+U8Fj6Lt8kK1VwQ23GWFEvfP581hEsnXzlDUiD36moG/1kWXpZOtl6ezTCo7tPX6fb5b0OgUBwB/4gEi94q0P90jqN7PdCp76+aKCrteeVdD39K7pTHwyprAcWK+xz4FD1yXOucQb1Q8o6GZqt4IWhh91zh239HnB5RYF11lPOOe6zKxH0pZznFvG82EF9Y3POec+enGTHY7E624F1623KqhLDHZ58DcK+ixPN2PFtfqVfP3gPgV5sn7kBF/XuEXSv5pZnoJ4yGsUHF+hmaDMmOgcONZ6JnPOHO+6VUrjOFcybOY+uTD9LHi86LRz7vMjxq9X0IH368JIVzqw4HG0jzjn0q17BwCTYGaFzrnT/oS7WdL7nHMpd+GC6cM+kTwLHmFd7ZxrCzstmBoWdF30kHNuVchJSSvj1bkBzB6UAwBS3WyIc9FSGQAwnb5mZpcq6A7mboKHEPsEAAAAAKQdWioDAAAAAAAAAJLGi/oAAAAAAAAAAEkjqAwAAAAAAAAASBpBZQAAAAAAAABA0ggqAwAAAAAAAACSRlAZAAAAAAAAAJA0gsoAAAAAAAAAgKT9f9DErAkg0eurAAAAAElFTkSuQmCC\n",
            "text/plain": [
              "<Figure size 1800x720 with 1 Axes>"
            ]
          },
          "metadata": {
            "tags": [],
            "needs_background": "light"
          }
        }
      ]
    },
    {
      "cell_type": "code",
      "metadata": {
        "scrolled": true,
        "id": "BbC9mFgslprj",
        "outputId": "713ac53d-bc51-4282-dd1c-d83421a8b87d"
      },
      "source": [
        "short_list.plot.pie(subplots=True)"
      ],
      "execution_count": null,
      "outputs": [
        {
          "output_type": "execute_result",
          "data": {
            "text/plain": [
              "array([<matplotlib.axes._subplots.AxesSubplot object at 0x000001B0C5EEF970>],\n",
              "      dtype=object)"
            ]
          },
          "metadata": {
            "tags": []
          },
          "execution_count": 38
        },
        {
          "output_type": "display_data",
          "data": {
            "image/png": "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\n",
            "text/plain": [
              "<Figure size 432x288 with 1 Axes>"
            ]
          },
          "metadata": {
            "tags": []
          }
        }
      ]
    },
    {
      "cell_type": "markdown",
      "metadata": {
        "id": "w1-ElKqHlprk"
      },
      "source": [
        "Другое представление в виде круговой диаграммы сверху вниз по убыванию частоты упоминаний."
      ]
    },
    {
      "cell_type": "markdown",
      "metadata": {
        "id": "NyKt0Q6rlprk"
      },
      "source": [
        "Используя все данные можно проанализировать частотность явно **положительных** слов значительно больше\n",
        "\n",
        "thank;41\n",
        "good;27\n",
        "great;24\n",
        "appreci;8\n",
        "perfect;5\n",
        "best;4\n",
        "amaz;2\n",
        "\n",
        "Против явно **отрицательных**\n",
        "\n",
        "slow;3\n",
        "frustrat;3\n",
        "poor;3\n",
        "confus;3\n",
        "challeng;3\n",
        "lose;2\n",
        "worst;2\n",
        "wast;2\n",
        "nadequ;2\n",
        "refund;2\n",
        "hard;2\n",
        "annoy;1\n",
        "dissatisfi;1\n",
        "irrespons;1\n",
        "disappoint;1\n",
        "__\n",
      ]
    }
  ]
}
